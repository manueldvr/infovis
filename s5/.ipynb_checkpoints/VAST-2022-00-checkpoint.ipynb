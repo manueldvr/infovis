{
 "cells": [
  {
   "cell_type": "markdown",
   "id": "c037506b",
   "metadata": {},
   "source": [
    "# VAST\n"
   ]
  },
  {
   "cell_type": "markdown",
   "id": "b4f39c5f",
   "metadata": {},
   "source": [
    "---"
   ]
  },
  {
   "cell_type": "code",
   "execution_count": null,
   "id": "4621b53e",
   "metadata": {},
   "outputs": [],
   "source": []
  },
  {
   "cell_type": "code",
   "execution_count": null,
   "id": "b7158f6a",
   "metadata": {},
   "outputs": [],
   "source": []
  },
  {
   "cell_type": "markdown",
   "id": "c93420bd",
   "metadata": {},
   "source": [
    "## Imports needed:"
   ]
  },
  {
   "cell_type": "code",
   "execution_count": 35,
   "id": "5c02bbf6",
   "metadata": {},
   "outputs": [],
   "source": [
    "import pandas as pd\n",
    "import altair as alt\n",
    "\n",
    "import duckdb"
   ]
  },
  {
   "cell_type": "markdown",
   "id": "5f138d1a",
   "metadata": {},
   "source": [
    "## PIP intallations if needed"
   ]
  },
  {
   "cell_type": "code",
   "execution_count": null,
   "id": "ed3ac9ee",
   "metadata": {},
   "outputs": [],
   "source": []
  },
  {
   "cell_type": "code",
   "execution_count": 36,
   "id": "5f9c2986",
   "metadata": {},
   "outputs": [],
   "source": [
    "# pip install pyarrow"
   ]
  },
  {
   "cell_type": "code",
   "execution_count": 37,
   "id": "415b7591",
   "metadata": {},
   "outputs": [],
   "source": [
    "# pip install fastparquet"
   ]
  },
  {
   "cell_type": "code",
   "execution_count": 38,
   "id": "28eec9ba-54d3-4a06-a620-84e5abef6776",
   "metadata": {},
   "outputs": [],
   "source": [
    "# pip install altair vega_datasets"
   ]
  },
  {
   "cell_type": "code",
   "execution_count": 39,
   "id": "dd307edf",
   "metadata": {},
   "outputs": [],
   "source": [
    "# pip install duckdb"
   ]
  },
  {
   "cell_type": "code",
   "execution_count": 47,
   "id": "995e9604",
   "metadata": {},
   "outputs": [
    {
     "name": "stdout",
     "output_type": "stream",
     "text": [
      "Requirement already satisfied: requests in /Users/manuelvargas/opt/anaconda3/lib/python3.9/site-packages (2.28.1)\n",
      "Requirement already satisfied: urllib3<1.27,>=1.21.1 in /Users/manuelvargas/opt/anaconda3/lib/python3.9/site-packages (from requests) (1.26.11)\n",
      "Requirement already satisfied: idna<4,>=2.5 in /Users/manuelvargas/opt/anaconda3/lib/python3.9/site-packages (from requests) (3.3)\n",
      "Requirement already satisfied: certifi>=2017.4.17 in /Users/manuelvargas/opt/anaconda3/lib/python3.9/site-packages (from requests) (2022.9.24)\n",
      "Requirement already satisfied: charset-normalizer<3,>=2 in /Users/manuelvargas/opt/anaconda3/lib/python3.9/site-packages (from requests) (2.0.4)\n",
      "Note: you may need to restart the kernel to use updated packages.\n"
     ]
    }
   ],
   "source": [
    "# pip install requests"
   ]
  },
  {
   "cell_type": "markdown",
   "id": "6bc5420d",
   "metadata": {},
   "source": [
    "---"
   ]
  },
  {
   "cell_type": "markdown",
   "id": "13ad7fd7",
   "metadata": {},
   "source": [
    "## DB"
   ]
  },
  {
   "cell_type": "code",
   "execution_count": 40,
   "id": "78088311",
   "metadata": {},
   "outputs": [],
   "source": [
    "con = duckdb.connect(database=':memory:')"
   ]
  },
  {
   "cell_type": "markdown",
   "id": "206fde63",
   "metadata": {},
   "source": [
    "## CSV to Parquet for processing"
   ]
  },
  {
   "cell_type": "code",
   "execution_count": 41,
   "id": "606301cd",
   "metadata": {},
   "outputs": [],
   "source": [
    "ruta = '/Users/manuelvargas/Documents/ITBA/data/VAST-Challenge-2022/Datasets/Activity Logs/'"
   ]
  },
  {
   "cell_type": "code",
   "execution_count": 42,
   "id": "9b4e6c6c",
   "metadata": {},
   "outputs": [],
   "source": [
    "# /Users/manuelvargas/Documents/ITBA/data/VAST-Challenge-2022/Datasets/parquet/\n",
    "rutap = '/Users/manuelvargas/Documents/ITBA/data/VAST-Challenge-2022/Datasets/parquet/'"
   ]
  },
  {
   "cell_type": "code",
   "execution_count": 59,
   "id": "0e396dfa",
   "metadata": {},
   "outputs": [],
   "source": [
    "rutaj = '/Users/manuelvargas/Documents/ITBA/data/VAST-Challenge-2022/Datasets/Journals/'"
   ]
  },
  {
   "cell_type": "code",
   "execution_count": 60,
   "id": "6b7acbe7",
   "metadata": {},
   "outputs": [],
   "source": [
    "rutajp = '/Users/manuelvargas/Documents/ITBA/data/VAST-Challenge-2022/Datasets/Journals/parquet'"
   ]
  },
  {
   "cell_type": "markdown",
   "id": "2d61d0e0",
   "metadata": {},
   "source": [
    "### Finance journals"
   ]
  },
  {
   "cell_type": "code",
   "execution_count": 62,
   "id": "bf940357",
   "metadata": {},
   "outputs": [],
   "source": [
    "df = pd.read_csv(rutaj + 'FinancialJournal.csv')\n",
    "df.to_parquet(rutajp + 'FinancialJournal.parquet', compression='gzip')"
   ]
  },
  {
   "cell_type": "code",
   "execution_count": null,
   "id": "3e647d43",
   "metadata": {},
   "outputs": [],
   "source": []
  },
  {
   "cell_type": "code",
   "execution_count": null,
   "id": "38f6f6aa",
   "metadata": {},
   "outputs": [],
   "source": []
  },
  {
   "cell_type": "markdown",
   "id": "e8b5410d",
   "metadata": {},
   "source": [
    "### 72 .csv files to .parquet"
   ]
  },
  {
   "cell_type": "code",
   "execution_count": 43,
   "id": "85cca000",
   "metadata": {},
   "outputs": [],
   "source": [
    "def toParquet():\n",
    "    for i in range(1,73):\n",
    "      print('processing file  #  ' + str(i))\n",
    "      df = pd.read_csv(ruta + 'ParticipantStatusLogs'+str(i)+'.csv')\n",
    "      df.to_parquet(rutap + 'ParticipantStatusLogs'+str(i)+'.parquet', compression='gzip')"
   ]
  },
  {
   "cell_type": "code",
   "execution_count": 18,
   "id": "86c3837f",
   "metadata": {},
   "outputs": [
    {
     "name": "stdout",
     "output_type": "stream",
     "text": [
      "Procesando el archivo #1\n",
      "Procesando el archivo #2\n",
      "Procesando el archivo #3\n",
      "Procesando el archivo #4\n",
      "Procesando el archivo #5\n",
      "Procesando el archivo #6\n",
      "Procesando el archivo #7\n",
      "Procesando el archivo #8\n",
      "Procesando el archivo #9\n",
      "Procesando el archivo #10\n",
      "Procesando el archivo #11\n",
      "Procesando el archivo #12\n",
      "Procesando el archivo #13\n",
      "Procesando el archivo #14\n",
      "Procesando el archivo #15\n",
      "Procesando el archivo #16\n",
      "Procesando el archivo #17\n",
      "Procesando el archivo #18\n",
      "Procesando el archivo #19\n",
      "Procesando el archivo #20\n",
      "Procesando el archivo #21\n",
      "Procesando el archivo #22\n",
      "Procesando el archivo #23\n",
      "Procesando el archivo #24\n",
      "Procesando el archivo #25\n",
      "Procesando el archivo #26\n",
      "Procesando el archivo #27\n",
      "Procesando el archivo #28\n",
      "Procesando el archivo #29\n",
      "Procesando el archivo #30\n",
      "Procesando el archivo #31\n",
      "Procesando el archivo #32\n",
      "Procesando el archivo #33\n",
      "Procesando el archivo #34\n",
      "Procesando el archivo #35\n",
      "Procesando el archivo #36\n",
      "Procesando el archivo #37\n",
      "Procesando el archivo #38\n",
      "Procesando el archivo #39\n",
      "Procesando el archivo #40\n",
      "Procesando el archivo #41\n",
      "Procesando el archivo #42\n",
      "Procesando el archivo #43\n",
      "Procesando el archivo #44\n",
      "Procesando el archivo #45\n",
      "Procesando el archivo #46\n",
      "Procesando el archivo #47\n",
      "Procesando el archivo #48\n",
      "Procesando el archivo #49\n",
      "Procesando el archivo #50\n",
      "Procesando el archivo #51\n",
      "Procesando el archivo #52\n",
      "Procesando el archivo #53\n",
      "Procesando el archivo #54\n",
      "Procesando el archivo #55\n",
      "Procesando el archivo #56\n",
      "Procesando el archivo #57\n",
      "Procesando el archivo #58\n",
      "Procesando el archivo #59\n",
      "Procesando el archivo #60\n",
      "Procesando el archivo #61\n",
      "Procesando el archivo #62\n",
      "Procesando el archivo #63\n",
      "Procesando el archivo #64\n",
      "Procesando el archivo #65\n",
      "Procesando el archivo #66\n",
      "Procesando el archivo #67\n",
      "Procesando el archivo #68\n",
      "Procesando el archivo #69\n",
      "Procesando el archivo #70\n",
      "Procesando el archivo #71\n",
      "Procesando el archivo #72\n"
     ]
    }
   ],
   "source": [
    "for i in range(1,73):\n",
    "  print('processing file  #  ' + str(i))\n",
    "  df = pd.read_csv(ruta  + 'ParticipantStatusLogs'+str(i)+'.csv')\n",
    "  df.to_parquet(   rutap + 'ParticipantStatusLogs'+str(i)+'.parquet', compression='gzip')"
   ]
  },
  {
   "cell_type": "markdown",
   "id": "9cc7456a",
   "metadata": {},
   "source": [
    "### Check DFrame"
   ]
  },
  {
   "cell_type": "code",
   "execution_count": 44,
   "id": "56a335fc",
   "metadata": {
    "scrolled": true
   },
   "outputs": [
    {
     "data": {
      "text/html": [
       "<div>\n",
       "<style scoped>\n",
       "    .dataframe tbody tr th:only-of-type {\n",
       "        vertical-align: middle;\n",
       "    }\n",
       "\n",
       "    .dataframe tbody tr th {\n",
       "        vertical-align: top;\n",
       "    }\n",
       "\n",
       "    .dataframe thead th {\n",
       "        text-align: right;\n",
       "    }\n",
       "</style>\n",
       "<table border=\"1\" class=\"dataframe\">\n",
       "  <thead>\n",
       "    <tr style=\"text-align: right;\">\n",
       "      <th></th>\n",
       "      <th>timestamp</th>\n",
       "      <th>currentLocation</th>\n",
       "      <th>participantId</th>\n",
       "      <th>currentMode</th>\n",
       "      <th>hungerStatus</th>\n",
       "      <th>sleepStatus</th>\n",
       "      <th>apartmentId</th>\n",
       "      <th>availableBalance</th>\n",
       "      <th>jobId</th>\n",
       "      <th>financialStatus</th>\n",
       "      <th>dailyFoodBudget</th>\n",
       "      <th>weeklyExtraBudget</th>\n",
       "    </tr>\n",
       "  </thead>\n",
       "  <tbody>\n",
       "    <tr>\n",
       "      <th>0</th>\n",
       "      <td>2023-05-21T20:20:00Z</td>\n",
       "      <td>POINT (-1608.4467532686513 3792.329605710588)</td>\n",
       "      <td>503.0</td>\n",
       "      <td>AtHome</td>\n",
       "      <td>Hungry</td>\n",
       "      <td>Awake</td>\n",
       "      <td>515.0</td>\n",
       "      <td>4549.642470</td>\n",
       "      <td>618.0</td>\n",
       "      <td>Stable</td>\n",
       "      <td>20.0</td>\n",
       "      <td>2805.977320</td>\n",
       "    </tr>\n",
       "    <tr>\n",
       "      <th>1</th>\n",
       "      <td>2023-05-21T20:20:00Z</td>\n",
       "      <td>POINT (-4441.123700435095 7062.412570344279)</td>\n",
       "      <td>504.0</td>\n",
       "      <td>AtHome</td>\n",
       "      <td>Starving</td>\n",
       "      <td>Awake</td>\n",
       "      <td>1448.0</td>\n",
       "      <td>28280.601848</td>\n",
       "      <td>862.0</td>\n",
       "      <td>Stable</td>\n",
       "      <td>12.0</td>\n",
       "      <td>9092.200411</td>\n",
       "    </tr>\n",
       "    <tr>\n",
       "      <th>2</th>\n",
       "      <td>2023-05-21T20:20:00Z</td>\n",
       "      <td>POINT (-1568.2757824409148 4017.6018828493707)</td>\n",
       "      <td>505.0</td>\n",
       "      <td>Transport</td>\n",
       "      <td>BecameFull</td>\n",
       "      <td>Awake</td>\n",
       "      <td>1040.0</td>\n",
       "      <td>22766.581892</td>\n",
       "      <td>837.0</td>\n",
       "      <td>Stable</td>\n",
       "      <td>16.0</td>\n",
       "      <td>7275.453414</td>\n",
       "    </tr>\n",
       "    <tr>\n",
       "      <th>3</th>\n",
       "      <td>2023-05-21T20:20:00Z</td>\n",
       "      <td>POINT (-2638.0240332388503 6888.773195452822)</td>\n",
       "      <td>506.0</td>\n",
       "      <td>AtHome</td>\n",
       "      <td>BecameFull</td>\n",
       "      <td>Awake</td>\n",
       "      <td>979.0</td>\n",
       "      <td>77583.306617</td>\n",
       "      <td>754.0</td>\n",
       "      <td>Stable</td>\n",
       "      <td>16.0</td>\n",
       "      <td>25170.099827</td>\n",
       "    </tr>\n",
       "    <tr>\n",
       "      <th>4</th>\n",
       "      <td>2023-05-21T20:20:00Z</td>\n",
       "      <td>POINT (-4357.849771294017 7214.08067138873)</td>\n",
       "      <td>507.0</td>\n",
       "      <td>AtHome</td>\n",
       "      <td>Starving</td>\n",
       "      <td>Awake</td>\n",
       "      <td>1597.0</td>\n",
       "      <td>8511.858223</td>\n",
       "      <td>447.0</td>\n",
       "      <td>Stable</td>\n",
       "      <td>12.0</td>\n",
       "      <td>2685.338561</td>\n",
       "    </tr>\n",
       "  </tbody>\n",
       "</table>\n",
       "</div>"
      ],
      "text/plain": [
       "              timestamp                                 currentLocation  \\\n",
       "0  2023-05-21T20:20:00Z   POINT (-1608.4467532686513 3792.329605710588)   \n",
       "1  2023-05-21T20:20:00Z    POINT (-4441.123700435095 7062.412570344279)   \n",
       "2  2023-05-21T20:20:00Z  POINT (-1568.2757824409148 4017.6018828493707)   \n",
       "3  2023-05-21T20:20:00Z   POINT (-2638.0240332388503 6888.773195452822)   \n",
       "4  2023-05-21T20:20:00Z     POINT (-4357.849771294017 7214.08067138873)   \n",
       "\n",
       "   participantId currentMode hungerStatus sleepStatus  apartmentId  \\\n",
       "0          503.0      AtHome       Hungry       Awake        515.0   \n",
       "1          504.0      AtHome     Starving       Awake       1448.0   \n",
       "2          505.0   Transport   BecameFull       Awake       1040.0   \n",
       "3          506.0      AtHome   BecameFull       Awake        979.0   \n",
       "4          507.0      AtHome     Starving       Awake       1597.0   \n",
       "\n",
       "   availableBalance  jobId financialStatus  dailyFoodBudget  weeklyExtraBudget  \n",
       "0       4549.642470  618.0          Stable             20.0        2805.977320  \n",
       "1      28280.601848  862.0          Stable             12.0        9092.200411  \n",
       "2      22766.581892  837.0          Stable             16.0        7275.453414  \n",
       "3      77583.306617  754.0          Stable             16.0       25170.099827  \n",
       "4       8511.858223  447.0          Stable             12.0        2685.338561  "
      ]
     },
     "execution_count": 44,
     "metadata": {},
     "output_type": "execute_result"
    }
   ],
   "source": [
    "df.head()"
   ]
  },
  {
   "cell_type": "code",
   "execution_count": 45,
   "id": "1a9c0f13",
   "metadata": {},
   "outputs": [
    {
     "data": {
      "text/plain": [
       "7121940"
      ]
     },
     "execution_count": 45,
     "metadata": {},
     "output_type": "execute_result"
    }
   ],
   "source": [
    "df.size"
   ]
  },
  {
   "cell_type": "markdown",
   "id": "5a914deb",
   "metadata": {},
   "source": [
    "### Check DB conn"
   ]
  },
  {
   "cell_type": "code",
   "execution_count": 25,
   "id": "b8e8bb6b",
   "metadata": {},
   "outputs": [],
   "source": [
    "source = con.execute(\"SELECT currentMode, count(*) as count FROM read_parquet('/Users/manuelvargas/Documents/ITBA/data/VAST-Challenge-2022/Datasets/parquet/ParticipantStatusLogs*.parquet') group by currentMode;\").df()"
   ]
  },
  {
   "cell_type": "code",
   "execution_count": 29,
   "id": "13a7ec48",
   "metadata": {},
   "outputs": [
    {
     "data": {
      "text/html": [
       "<div>\n",
       "<style scoped>\n",
       "    .dataframe tbody tr th:only-of-type {\n",
       "        vertical-align: middle;\n",
       "    }\n",
       "\n",
       "    .dataframe tbody tr th {\n",
       "        vertical-align: top;\n",
       "    }\n",
       "\n",
       "    .dataframe thead th {\n",
       "        text-align: right;\n",
       "    }\n",
       "</style>\n",
       "<table border=\"1\" class=\"dataframe\">\n",
       "  <thead>\n",
       "    <tr style=\"text-align: right;\">\n",
       "      <th></th>\n",
       "      <th>count</th>\n",
       "    </tr>\n",
       "  </thead>\n",
       "  <tbody>\n",
       "    <tr>\n",
       "      <th>0</th>\n",
       "      <td>10246066</td>\n",
       "    </tr>\n",
       "    <tr>\n",
       "      <th>1</th>\n",
       "      <td>27239602</td>\n",
       "    </tr>\n",
       "    <tr>\n",
       "      <th>2</th>\n",
       "      <td>69236289</td>\n",
       "    </tr>\n",
       "    <tr>\n",
       "      <th>3</th>\n",
       "      <td>1765430</td>\n",
       "    </tr>\n",
       "    <tr>\n",
       "      <th>4</th>\n",
       "      <td>5436347</td>\n",
       "    </tr>\n",
       "    <tr>\n",
       "      <th>5</th>\n",
       "      <td>1</td>\n",
       "    </tr>\n",
       "  </tbody>\n",
       "</table>\n",
       "</div>"
      ],
      "text/plain": [
       "      count\n",
       "0  10246066\n",
       "1  27239602\n",
       "2  69236289\n",
       "3   1765430\n",
       "4   5436347\n",
       "5         1"
      ]
     },
     "execution_count": 29,
     "metadata": {},
     "output_type": "execute_result"
    }
   ],
   "source": [
    "count = con.execute(\"SELECT count(*) as count FROM read_parquet('/Users/manuelvargas/Documents/ITBA/data/VAST-Challenge-2022/Datasets/parquet/ParticipantStatusLogs*.parquet') group by currentMode;\").df()\n",
    "count"
   ]
  },
  {
   "cell_type": "markdown",
   "id": "0e0b0f06",
   "metadata": {},
   "source": [
    "### Check"
   ]
  },
  {
   "cell_type": "code",
   "execution_count": 26,
   "id": "11359f27",
   "metadata": {},
   "outputs": [
    {
     "data": {
      "text/html": [
       "\n",
       "<div id=\"altair-viz-16749bb8caa941889414cf46fa5c31d1\"></div>\n",
       "<script type=\"text/javascript\">\n",
       "  var VEGA_DEBUG = (typeof VEGA_DEBUG == \"undefined\") ? {} : VEGA_DEBUG;\n",
       "  (function(spec, embedOpt){\n",
       "    let outputDiv = document.currentScript.previousElementSibling;\n",
       "    if (outputDiv.id !== \"altair-viz-16749bb8caa941889414cf46fa5c31d1\") {\n",
       "      outputDiv = document.getElementById(\"altair-viz-16749bb8caa941889414cf46fa5c31d1\");\n",
       "    }\n",
       "    const paths = {\n",
       "      \"vega\": \"https://cdn.jsdelivr.net/npm//vega@5?noext\",\n",
       "      \"vega-lib\": \"https://cdn.jsdelivr.net/npm//vega-lib?noext\",\n",
       "      \"vega-lite\": \"https://cdn.jsdelivr.net/npm//vega-lite@4.17.0?noext\",\n",
       "      \"vega-embed\": \"https://cdn.jsdelivr.net/npm//vega-embed@6?noext\",\n",
       "    };\n",
       "\n",
       "    function maybeLoadScript(lib, version) {\n",
       "      var key = `${lib.replace(\"-\", \"\")}_version`;\n",
       "      return (VEGA_DEBUG[key] == version) ?\n",
       "        Promise.resolve(paths[lib]) :\n",
       "        new Promise(function(resolve, reject) {\n",
       "          var s = document.createElement('script');\n",
       "          document.getElementsByTagName(\"head\")[0].appendChild(s);\n",
       "          s.async = true;\n",
       "          s.onload = () => {\n",
       "            VEGA_DEBUG[key] = version;\n",
       "            return resolve(paths[lib]);\n",
       "          };\n",
       "          s.onerror = () => reject(`Error loading script: ${paths[lib]}`);\n",
       "          s.src = paths[lib];\n",
       "        });\n",
       "    }\n",
       "\n",
       "    function showError(err) {\n",
       "      outputDiv.innerHTML = `<div class=\"error\" style=\"color:red;\">${err}</div>`;\n",
       "      throw err;\n",
       "    }\n",
       "\n",
       "    function displayChart(vegaEmbed) {\n",
       "      vegaEmbed(outputDiv, spec, embedOpt)\n",
       "        .catch(err => showError(`Javascript Error: ${err.message}<br>This usually means there's a typo in your chart specification. See the javascript console for the full traceback.`));\n",
       "    }\n",
       "\n",
       "    if(typeof define === \"function\" && define.amd) {\n",
       "      requirejs.config({paths});\n",
       "      require([\"vega-embed\"], displayChart, err => showError(`Error loading script: ${err.message}`));\n",
       "    } else {\n",
       "      maybeLoadScript(\"vega\", \"5\")\n",
       "        .then(() => maybeLoadScript(\"vega-lite\", \"4.17.0\"))\n",
       "        .then(() => maybeLoadScript(\"vega-embed\", \"6\"))\n",
       "        .catch(showError)\n",
       "        .then(() => displayChart(vegaEmbed));\n",
       "    }\n",
       "  })({\"config\": {\"view\": {\"continuousWidth\": 400, \"continuousHeight\": 300}}, \"data\": {\"name\": \"data-479079d0ae7a0dabb7ba61337de0dabf\"}, \"mark\": \"bar\", \"encoding\": {\"x\": {\"field\": \"count\", \"type\": \"quantitative\"}, \"y\": {\"field\": \"currentMode\", \"sort\": \"-x\", \"type\": \"nominal\"}}, \"$schema\": \"https://vega.github.io/schema/vega-lite/v4.17.0.json\", \"datasets\": {\"data-479079d0ae7a0dabb7ba61337de0dabf\": [{\"currentMode\": \"Transport\", \"count\": 10246066}, {\"currentMode\": \"AtRecreation\", \"count\": 5436347}, {\"currentMode\": \"AtHome\", \"count\": 69236289}, {\"currentMode\": \"AtRestaurant\", \"count\": 1765430}, {\"currentMode\": \"AtWork\", \"count\": 27239602}, {\"currentMode\": null, \"count\": 1}]}}, {\"mode\": \"vega-lite\"});\n",
       "</script>"
      ],
      "text/plain": [
       "alt.Chart(...)"
      ]
     },
     "execution_count": 26,
     "metadata": {},
     "output_type": "execute_result"
    }
   ],
   "source": [
    "alt.Chart(source).mark_bar().encode(\n",
    "    x='count:Q',\n",
    "    y=alt.Y('currentMode:N', sort='-x')\n",
    ")"
   ]
  },
  {
   "cell_type": "code",
   "execution_count": null,
   "id": "22946403",
   "metadata": {},
   "outputs": [],
   "source": []
  },
  {
   "cell_type": "code",
   "execution_count": null,
   "id": "68d78ae9",
   "metadata": {},
   "outputs": [],
   "source": [
    "sourcecsv = con.execute(\"SELECT count(*) FROM read_parquet('/content/ParticipantStatusLogs*.parquet');\").df()"
   ]
  },
  {
   "cell_type": "code",
   "execution_count": null,
   "id": "e4396482",
   "metadata": {},
   "outputs": [],
   "source": []
  },
  {
   "cell_type": "markdown",
   "id": "10f9623d",
   "metadata": {},
   "source": [
    "----"
   ]
  },
  {
   "cell_type": "markdown",
   "id": "eea8939f",
   "metadata": {},
   "source": [
    "W6 \n",
    "https://data.world/makeovermonday/2022w46"
   ]
  },
  {
   "cell_type": "markdown",
   "id": "9cfe1fb4",
   "metadata": {},
   "source": [
    "data\n",
    "https://download.data.world/s/anq5seebkdt6g3mun4lu2ubdsa7fow"
   ]
  },
  {
   "cell_type": "markdown",
   "id": "bdb3e31d",
   "metadata": {},
   "source": [
    "---"
   ]
  },
  {
   "cell_type": "markdown",
   "id": "09dd2a85",
   "metadata": {},
   "source": [
    "### DUCK DB - API"
   ]
  },
  {
   "cell_type": "markdown",
   "id": "6e2bd4ac",
   "metadata": {},
   "source": [
    "librerias de API:\n",
    "- DJango\n",
    "- RestFull\n",
    "- FastAPI\n",
    "- Flask"
   ]
  },
  {
   "cell_type": "code",
   "execution_count": null,
   "id": "e4fdc8e5",
   "metadata": {},
   "outputs": [],
   "source": [
    "# pip install "
   ]
  },
  {
   "cell_type": "code",
   "execution_count": 48,
   "id": "b9bf778c",
   "metadata": {},
   "outputs": [],
   "source": [
    "import pandas as pd\n",
    "import altair as alt\n",
    "import requests"
   ]
  },
  {
   "cell_type": "markdown",
   "id": "8188d0a8",
   "metadata": {},
   "source": [
    "/**    /Users/manuelvargas/Documents/ITBA/covid/Covid19Casos.csv\n",
    "    /Users/manuelvargas/Documents/ITBA/data/VAST-Challenge-2022/Datasets/parquet   **/"
   ]
  },
  {
   "cell_type": "code",
   "execution_count": null,
   "id": "195ba4fe",
   "metadata": {},
   "outputs": [],
   "source": []
  },
  {
   "cell_type": "code",
   "execution_count": 49,
   "id": "6f5055aa",
   "metadata": {},
   "outputs": [],
   "source": [
    "r = requests.get(\"http://localhost:8000/\")"
   ]
  },
  {
   "cell_type": "code",
   "execution_count": 50,
   "id": "81033a8f",
   "metadata": {},
   "outputs": [
    {
     "data": {
      "text/plain": [
       "{'Hello': 'World'}"
      ]
     },
     "execution_count": 50,
     "metadata": {},
     "output_type": "execute_result"
    }
   ],
   "source": [
    "r.json()"
   ]
  },
  {
   "cell_type": "code",
   "execution_count": 52,
   "id": "a5caf4b9",
   "metadata": {},
   "outputs": [
    {
     "data": {
      "text/plain": [
       "'World'"
      ]
     },
     "execution_count": 52,
     "metadata": {},
     "output_type": "execute_result"
    }
   ],
   "source": [
    "r.json()['Hello']"
   ]
  },
  {
   "cell_type": "code",
   "execution_count": 53,
   "id": "e77438c5",
   "metadata": {},
   "outputs": [],
   "source": [
    "df = pd.read_json(\"http://127.0.0.1:8000/al_cmode_count-v2\")"
   ]
  },
  {
   "cell_type": "code",
   "execution_count": 54,
   "id": "8d443577",
   "metadata": {},
   "outputs": [
    {
     "data": {
      "text/html": [
       "<div>\n",
       "<style scoped>\n",
       "    .dataframe tbody tr th:only-of-type {\n",
       "        vertical-align: middle;\n",
       "    }\n",
       "\n",
       "    .dataframe tbody tr th {\n",
       "        vertical-align: top;\n",
       "    }\n",
       "\n",
       "    .dataframe thead th {\n",
       "        text-align: right;\n",
       "    }\n",
       "</style>\n",
       "<table border=\"1\" class=\"dataframe\">\n",
       "  <thead>\n",
       "    <tr style=\"text-align: right;\">\n",
       "      <th></th>\n",
       "      <th>0</th>\n",
       "      <th>1</th>\n",
       "    </tr>\n",
       "  </thead>\n",
       "  <tbody>\n",
       "    <tr>\n",
       "      <th>0</th>\n",
       "      <td>Transport</td>\n",
       "      <td>10246066</td>\n",
       "    </tr>\n",
       "    <tr>\n",
       "      <th>1</th>\n",
       "      <td>AtRecreation</td>\n",
       "      <td>5436347</td>\n",
       "    </tr>\n",
       "    <tr>\n",
       "      <th>2</th>\n",
       "      <td>AtHome</td>\n",
       "      <td>69236289</td>\n",
       "    </tr>\n",
       "    <tr>\n",
       "      <th>3</th>\n",
       "      <td>AtRestaurant</td>\n",
       "      <td>1765430</td>\n",
       "    </tr>\n",
       "    <tr>\n",
       "      <th>4</th>\n",
       "      <td>AtWork</td>\n",
       "      <td>27239602</td>\n",
       "    </tr>\n",
       "  </tbody>\n",
       "</table>\n",
       "</div>"
      ],
      "text/plain": [
       "              0         1\n",
       "0     Transport  10246066\n",
       "1  AtRecreation   5436347\n",
       "2        AtHome  69236289\n",
       "3  AtRestaurant   1765430\n",
       "4        AtWork  27239602"
      ]
     },
     "execution_count": 54,
     "metadata": {},
     "output_type": "execute_result"
    }
   ],
   "source": [
    "df.head()"
   ]
  },
  {
   "cell_type": "code",
   "execution_count": 57,
   "id": "10c3e900",
   "metadata": {},
   "outputs": [
    {
     "data": {
      "text/html": [
       "<div>\n",
       "<style scoped>\n",
       "    .dataframe tbody tr th:only-of-type {\n",
       "        vertical-align: middle;\n",
       "    }\n",
       "\n",
       "    .dataframe tbody tr th {\n",
       "        vertical-align: top;\n",
       "    }\n",
       "\n",
       "    .dataframe thead th {\n",
       "        text-align: right;\n",
       "    }\n",
       "</style>\n",
       "<table border=\"1\" class=\"dataframe\">\n",
       "  <thead>\n",
       "    <tr style=\"text-align: right;\">\n",
       "      <th></th>\n",
       "      <th>currentMode</th>\n",
       "      <th>count</th>\n",
       "    </tr>\n",
       "  </thead>\n",
       "  <tbody>\n",
       "    <tr>\n",
       "      <th>0</th>\n",
       "      <td>Transport</td>\n",
       "      <td>10246066</td>\n",
       "    </tr>\n",
       "    <tr>\n",
       "      <th>1</th>\n",
       "      <td>AtRecreation</td>\n",
       "      <td>5436347</td>\n",
       "    </tr>\n",
       "    <tr>\n",
       "      <th>2</th>\n",
       "      <td>AtHome</td>\n",
       "      <td>69236289</td>\n",
       "    </tr>\n",
       "    <tr>\n",
       "      <th>3</th>\n",
       "      <td>AtRestaurant</td>\n",
       "      <td>1765430</td>\n",
       "    </tr>\n",
       "    <tr>\n",
       "      <th>4</th>\n",
       "      <td>AtWork</td>\n",
       "      <td>27239602</td>\n",
       "    </tr>\n",
       "  </tbody>\n",
       "</table>\n",
       "</div>"
      ],
      "text/plain": [
       "    currentMode     count\n",
       "0     Transport  10246066\n",
       "1  AtRecreation   5436347\n",
       "2        AtHome  69236289\n",
       "3  AtRestaurant   1765430\n",
       "4        AtWork  27239602"
      ]
     },
     "execution_count": 57,
     "metadata": {},
     "output_type": "execute_result"
    }
   ],
   "source": [
    "df.rename(columns={0: \"currentMode\", 1: \"count\"}, inplace=True)\n",
    "df.head()"
   ]
  },
  {
   "cell_type": "code",
   "execution_count": 58,
   "id": "d78ba2a5",
   "metadata": {},
   "outputs": [
    {
     "data": {
      "text/html": [
       "\n",
       "<div id=\"altair-viz-9447bc6d5e094a33a8dd932f387c6764\"></div>\n",
       "<script type=\"text/javascript\">\n",
       "  var VEGA_DEBUG = (typeof VEGA_DEBUG == \"undefined\") ? {} : VEGA_DEBUG;\n",
       "  (function(spec, embedOpt){\n",
       "    let outputDiv = document.currentScript.previousElementSibling;\n",
       "    if (outputDiv.id !== \"altair-viz-9447bc6d5e094a33a8dd932f387c6764\") {\n",
       "      outputDiv = document.getElementById(\"altair-viz-9447bc6d5e094a33a8dd932f387c6764\");\n",
       "    }\n",
       "    const paths = {\n",
       "      \"vega\": \"https://cdn.jsdelivr.net/npm//vega@5?noext\",\n",
       "      \"vega-lib\": \"https://cdn.jsdelivr.net/npm//vega-lib?noext\",\n",
       "      \"vega-lite\": \"https://cdn.jsdelivr.net/npm//vega-lite@4.17.0?noext\",\n",
       "      \"vega-embed\": \"https://cdn.jsdelivr.net/npm//vega-embed@6?noext\",\n",
       "    };\n",
       "\n",
       "    function maybeLoadScript(lib, version) {\n",
       "      var key = `${lib.replace(\"-\", \"\")}_version`;\n",
       "      return (VEGA_DEBUG[key] == version) ?\n",
       "        Promise.resolve(paths[lib]) :\n",
       "        new Promise(function(resolve, reject) {\n",
       "          var s = document.createElement('script');\n",
       "          document.getElementsByTagName(\"head\")[0].appendChild(s);\n",
       "          s.async = true;\n",
       "          s.onload = () => {\n",
       "            VEGA_DEBUG[key] = version;\n",
       "            return resolve(paths[lib]);\n",
       "          };\n",
       "          s.onerror = () => reject(`Error loading script: ${paths[lib]}`);\n",
       "          s.src = paths[lib];\n",
       "        });\n",
       "    }\n",
       "\n",
       "    function showError(err) {\n",
       "      outputDiv.innerHTML = `<div class=\"error\" style=\"color:red;\">${err}</div>`;\n",
       "      throw err;\n",
       "    }\n",
       "\n",
       "    function displayChart(vegaEmbed) {\n",
       "      vegaEmbed(outputDiv, spec, embedOpt)\n",
       "        .catch(err => showError(`Javascript Error: ${err.message}<br>This usually means there's a typo in your chart specification. See the javascript console for the full traceback.`));\n",
       "    }\n",
       "\n",
       "    if(typeof define === \"function\" && define.amd) {\n",
       "      requirejs.config({paths});\n",
       "      require([\"vega-embed\"], displayChart, err => showError(`Error loading script: ${err.message}`));\n",
       "    } else {\n",
       "      maybeLoadScript(\"vega\", \"5\")\n",
       "        .then(() => maybeLoadScript(\"vega-lite\", \"4.17.0\"))\n",
       "        .then(() => maybeLoadScript(\"vega-embed\", \"6\"))\n",
       "        .catch(showError)\n",
       "        .then(() => displayChart(vegaEmbed));\n",
       "    }\n",
       "  })({\"config\": {\"view\": {\"continuousWidth\": 400, \"continuousHeight\": 300}}, \"data\": {\"name\": \"data-479079d0ae7a0dabb7ba61337de0dabf\"}, \"mark\": \"bar\", \"encoding\": {\"x\": {\"field\": \"count\", \"type\": \"quantitative\"}, \"y\": {\"field\": \"currentMode\", \"sort\": \"-x\", \"type\": \"nominal\"}}, \"$schema\": \"https://vega.github.io/schema/vega-lite/v4.17.0.json\", \"datasets\": {\"data-479079d0ae7a0dabb7ba61337de0dabf\": [{\"currentMode\": \"Transport\", \"count\": 10246066}, {\"currentMode\": \"AtRecreation\", \"count\": 5436347}, {\"currentMode\": \"AtHome\", \"count\": 69236289}, {\"currentMode\": \"AtRestaurant\", \"count\": 1765430}, {\"currentMode\": \"AtWork\", \"count\": 27239602}, {\"currentMode\": null, \"count\": 1}]}}, {\"mode\": \"vega-lite\"});\n",
       "</script>"
      ],
      "text/plain": [
       "alt.Chart(...)"
      ]
     },
     "execution_count": 58,
     "metadata": {},
     "output_type": "execute_result"
    }
   ],
   "source": [
    "alt.Chart(df).mark_bar().encode(\n",
    "    #y='currentMode:N',\n",
    "    y=alt.Y('currentMode:N', sort='-x'),\n",
    "    x='count:Q'\n",
    ")"
   ]
  },
  {
   "cell_type": "markdown",
   "id": "ea9fff2d",
   "metadata": {},
   "source": [
    "---"
   ]
  },
  {
   "cell_type": "markdown",
   "id": "8af27a4d",
   "metadata": {},
   "source": []
  },
  {
   "cell_type": "code",
   "execution_count": null,
   "id": "11fc2a9e",
   "metadata": {},
   "outputs": [],
   "source": []
  },
  {
   "cell_type": "markdown",
   "id": "58553832",
   "metadata": {},
   "source": [
    "---"
   ]
  },
  {
   "cell_type": "code",
   "execution_count": null,
   "id": "565ae58d",
   "metadata": {},
   "outputs": [],
   "source": []
  }
 ],
 "metadata": {
  "kernelspec": {
   "display_name": "Python 3 (ipykernel)",
   "language": "python",
   "name": "python3"
  },
  "language_info": {
   "codemirror_mode": {
    "name": "ipython",
    "version": 3
   },
   "file_extension": ".py",
   "mimetype": "text/x-python",
   "name": "python",
   "nbconvert_exporter": "python",
   "pygments_lexer": "ipython3",
   "version": "3.9.13"
  }
 },
 "nbformat": 4,
 "nbformat_minor": 5
}
